{
 "metadata": {
  "language_info": {
   "codemirror_mode": {
    "name": "ipython",
    "version": 3
   },
   "file_extension": ".py",
   "mimetype": "text/x-python",
   "name": "python",
   "nbconvert_exporter": "python",
   "pygments_lexer": "ipython3",
   "version": "3.8.5-final"
  },
  "orig_nbformat": 2,
  "kernelspec": {
   "name": "python_defaultSpec_1600592807233",
   "display_name": "Python 3.8.5 64-bit"
  }
 },
 "nbformat": 4,
 "nbformat_minor": 2,
 "cells": [
  {
   "cell_type": "code",
   "execution_count": 7,
   "metadata": {
    "tags": []
   },
   "outputs": [
    {
     "output_type": "stream",
     "name": "stdout",
     "text": "ニュース\n\nアカウント\n検索\nマップ\nYouTube\nPlay\nニュース\nGmail\nMeet\n連絡先\nドライブ\nカレンダー\n翻訳\nフォト\nDuo\nChrome\nショッピング\nドキュメント\nスプレッドシート\nスライド\nブックス\nBlogger\nハングアウト\nKeep\nJamboard\nEarth\nコレクション\n芸術、文化\nGoogle 広告\nPodcasts\nその他のソリューション\nログイン\nニュース\nheadlineトップニュース\nCOVID-19（新型コロナウイルス感染症）\nflag日本\npublic世界\nroomローカル ニュース\nbusinessビジネス\nexperiment科学＆テクノロジー\ntheatersエンタメ\ndirections_bikeスポーツ\nAndroid アプリをダウンロードopen_in_new\niOS アプリをダウンロードopen_in_new\nヘルプopen_in_new\nプライバシー\n利用規約\nGoogle について\nヘッドライン\nヘッドラインのニュースをもっと見る\n\n\n大阪府の感染者、累計１万人超える…新たに８１人確認で\n読売新聞\n\n新型コロナ 都内で１６２人感染｜NHK 首都圏のニュース\nNHK NEWS WEB\n\nきのう都で218人感染 開放的になりすぎないで(2020年9月20日)\nANNnewsCH\n\n東京、新たに１６２人感染｜愛媛新聞ONLINE\n愛媛新聞\n\n[新型コロナ] 今話題「ゴーストレストラン」 コロナ不況の中 急成長のワケ\nFNNプライムオンライン\nすべての記事を見る\n\n\n東京都 新型コロナ 162人の感染確認 100人超は6日連続\nNHK NEWS WEB\n\n東京都で新たに162人の感染確認 3日ぶりに100人台(2020年9月20日)\nANNnewsCH\n\n大阪府の新規感染者は８１人 枚方市のスポーツジムでクラスター…感染者は計１２人に\n毎日放送\n\n東京都で新たに162人の感染を確認 3日ぶりに200人を下回る 重症者は2人増え27人（ABEMA TIMES）\nYahoo!ニュース\n\n東京で新たに218人の感染確認 2日連続で200人超え(2020年9月19日)\nANNnewsCH\nすべての記事を見る\n\n\n母親の感染分かった10歳未満の男児も…新型コロナ 愛知の新規感染者31人 福祉施設のクラスター拡大\ntokai-tv.com\n\n\n\n小学校の給食調理員や幼稚園バス運転手がコロナ感染 京都で５人、18日夜発表\n京都新聞\n\n５７２人感染、１０人死亡｜愛媛新聞ONLINE\n愛媛新聞\nすべての記事を見る\n\n\n新型コロナ 宮城で２人感染\n河北新報\n\n宮城県内で１４人感染確認 塩釜市の寿司店利用者にコールセンターへの連絡呼びかけ\nFNNプライムオンライン\n\n【速報】新型コロナ 仙台市で男女2人の感染確認（KHB東日本放送）\nYahoo!ニュース\n\n新型コロナ 宮城で１４人感染\n河北新報\n\n不特定多数に新型コロナ感染の恐れ 宮城県が塩釜のすし店利用客に連絡呼びかけ\nFNNプライムオンライン\nすべての記事を見る\n\n\n中国、台湾での森元首相発言に説明要求 菅首相の意向めぐり\n産経ニュース\n\n台湾・李登輝元総統に最後のお別れ 森元総理も参列（2020年9月19日）\nテレ東NEWS\n\n台湾、「弔問外交」積極展開 中国軍機は連日の中間線越え\n時事通信ニュース\n\n台湾・李登輝元総統の告別式 安倍前総理も敬意表明(2020年9月19日)\nANNnewsCH\n\n米高官が台湾総統と意見交換 中国は反発（日本テレビ系（NNN））\nYahoo!ニュース\nすべての記事を見る\n\n「政権批判おじさん」ラサール石井の正体は最強の二番手タレント（ラリー遠田） - Yahoo!ニュース\nYahoo!ニュース\n\n夫と男児を育てるのが無理ゲーすぎる問題｜アルテイシアの59番目の結婚生活｜アルテイシア\ngentosha.jp\n\n【FF14】2845人の光の戦士から回答が寄せられた、新生7周年記念プレイヤーアンケート。その結果の詳細を公開!!【前編】\nファミ通.com\n\n接触8秒前に手動介入、運転手の判断ミスが要因 自動運転バスの接触事案\n自動運転ラボ\n\n安倍前首相の師、加藤節さんが嘆く哲学の欠如 前政権で始まった「政府の暴走」 - 毎日新聞\n毎日新聞\n\n第244回 第11世代CoreプロセッサはIntelの流れを変える一石になるか？\n@IT\n\nやる気スイッチを入れてくれるオカムラのチェア「フィノラ」\nImpress Watch\n\n象形文字の“Google翻訳”が可能に！ グーグルがヒエログリフの解読補助ツールをつくった理由\nWIRED.jp\n\n人口約5000人の利尻島で脱サラして始めた「日本一行きづらいラーメン店」に全国からマニアが訪れ行列を作るまで\nメシ通\n\nウェブサイトを見ていたら「感染」警告画面、消せなくなったときの対処方法は？\nINTERNET Watch\n\n\n\n\n\n\n\n\n\n\n"
    }
   ],
   "source": [
    "import requests\n",
    "from bs4 import BeautifulSoup\n",
    "\n",
    "# WebサイトのURLを指定\n",
    "url = \"https://news.google.com/?hl=ja&gl=JP&ceid=JP:ja\"\n",
    "\n",
    "# Requestsを利用してWebページを取得する\n",
    "r = requests.get(url)\n",
    "\n",
    "# BeautifulSoupを利用してWebページを解析する\n",
    "soup = BeautifulSoup(r.text, 'html.parser')\n",
    "\n",
    "# soup.find_allを利用して、ヘッドラインのタイトルを取得する\n",
    "elems = soup.find_all(\"a\")\n",
    "for e in elems:\n",
    " print(e.getText())"
   ]
  },
  {
   "cell_type": "code",
   "execution_count": null,
   "metadata": {},
   "outputs": [],
   "source": []
  }
 ]
}